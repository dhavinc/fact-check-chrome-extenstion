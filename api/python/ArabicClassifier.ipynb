{
 "cells": [
  {
   "cell_type": "markdown",
   "metadata": {},
   "source": [
    "# News Article Classification"
   ]
  },
  {
   "cell_type": "markdown",
   "metadata": {},
   "source": [
    "## Categories\n",
    "\n",
    "* تونس\n",
    "* الثقافة\n",
    "* اسلاميات\n",
    "* المجتمع\n",
    "* الرياضة\n",
    "* العالم"
   ]
  },
  {
   "cell_type": "markdown",
   "metadata": {},
   "source": [
    "#### Import packages"
   ]
  },
  {
   "cell_type": "code",
   "execution_count": 5,
   "metadata": {},
   "outputs": [],
   "source": [
    "from helper import Helper\n",
    "helper = Helper()"
   ]
  },
  {
   "cell_type": "markdown",
   "metadata": {},
   "source": [
    "#### Loading Vocabulary, TFIDF & Model"
   ]
  },
  {
   "cell_type": "code",
   "execution_count": 6,
   "metadata": {},
   "outputs": [
    {
     "name": "stderr",
     "output_type": "stream",
     "text": [
      "C:\\Users\\WiKi Kef\\Anaconda3\\lib\\site-packages\\sklearn\\base.py:251: UserWarning: Trying to unpickle estimator SGDClassifier from version 0.19.1 when using version 0.20.1. This might lead to breaking code or invalid results. Use at your own risk.\n",
      "  UserWarning)\n",
      "C:\\Users\\WiKi Kef\\Anaconda3\\lib\\site-packages\\sklearn\\base.py:251: UserWarning: Trying to unpickle estimator CountVectorizer from version 0.19.1 when using version 0.20.1. This might lead to breaking code or invalid results. Use at your own risk.\n",
      "  UserWarning)\n",
      "C:\\Users\\WiKi Kef\\Anaconda3\\lib\\site-packages\\sklearn\\base.py:251: UserWarning: Trying to unpickle estimator TfidfTransformer from version 0.19.1 when using version 0.20.1. This might lead to breaking code or invalid results. Use at your own risk.\n",
      "  UserWarning)\n"
     ]
    }
   ],
   "source": [
    "model, vocabulary, tfidf = helper.getModel('sgd_94')"
   ]
  },
  {
   "cell_type": "markdown",
   "metadata": {},
   "source": [
    "#### Categories"
   ]
  },
  {
   "cell_type": "code",
   "execution_count": 39,
   "metadata": {},
   "outputs": [],
   "source": [
    "categories = {\n",
    "    'religion':6, \n",
    "    'world':5, \n",
    "    'sport':2, \n",
    "    'society':4, \n",
    "    'tunisia':1, \n",
    "    'entertainment':3\n",
    "}\n",
    "arabicCategories = {\n",
    "    'religion':'اسلاميات', \n",
    "    'world':'العالم', \n",
    "    'sport':'الرياضة', \n",
    "    'society':'المجتمع', \n",
    "    'Tunisia':'تونس', \n",
    "    'entertainment':'الثقافة'\n",
    "}"
   ]
  },
  {
   "cell_type": "markdown",
   "metadata": {},
   "source": [
    "#### New Article to Classify"
   ]
  },
  {
   "cell_type": "code",
   "execution_count": 89,
   "metadata": {},
   "outputs": [],
   "source": [
    "testingArticles = [\n",
    "    'entertaiment2.txt',\n",
    "    'entertainment.txt',\n",
    "    'religion.txt',\n",
    "    'religion2.txt',\n",
    "    'society.txt',\n",
    "    'society2.txt',\n",
    "    'sport.txt',\n",
    "    'sport2.txt',\n",
    "    'world.txt',\n",
    "    'world2.txt'\n",
    "]\n",
    "articlePath = \"Articles/\"+testingArticles[1]\n",
    "article = open(articlePath, 'r' , encoding= 'utf-8').read()"
   ]
  },
  {
   "cell_type": "markdown",
   "metadata": {},
   "source": [
    "#### Preprocessing\n",
    "* Tokenization\n",
    "* Removing stop words\n",
    "* Stemming"
   ]
  },
  {
   "cell_type": "code",
   "execution_count": 90,
   "metadata": {},
   "outputs": [],
   "source": [
    "from string import punctuation\n",
    "\n",
    "punctuation += '،؛؟”0123456789“'\n",
    "\n",
    "def getCleanArticle(content):\n",
    "        content = ''.join(c for c in content if c not in punctuation)\n",
    "        words = content.split()     \n",
    "        cleandWords = [w for w in words if w not in stopWords]\n",
    "        return ' '.join(cleandWords)"
   ]
  },
  {
   "cell_type": "code",
   "execution_count": 91,
   "metadata": {},
   "outputs": [],
   "source": [
    "stopWords = open(\"Tools/arabic-stop-words/list.txt\",encoding=\"utf8\").read().splitlines()\n"
   ]
  },
  {
   "cell_type": "code",
   "execution_count": 92,
   "metadata": {},
   "outputs": [
    {
     "data": {
      "text/plain": [
       "'يعود الفكاهي محمد لوسويدوا إلى الجزائر بعد غياب دام ثلاث سنوات بعرض مسرحي جديد، “يقدمه في الـ3 ماي الداخل بالمسرح الوطني محي الدين بشطارزي”.\\n\\nوتأتي عودة الفنان الكوميدي محمد لوسويدوا إلى بلاده، لإمتاع الجمهور الجزائري بعرض “أون فامي دوأوف” بعد آخر مشاركة له في مهرجان “ألجيري كوميدي فستيفال” في طبعته الخامسة عشرة.\\n\\nومحمد سويدوا واسمه الحقيقي محمد مجروب، التحق بصفوف مدرسة فلورنت في عام 2004، بهدف الحصول على أساسيات التمثيل.\\n\\nوفي عام 2011 شارك في مسابقة “نادي مرسيليا للكوميديا” وفاز في المنافسة النهائية. وقدم الفكاهي سويدوا عروضه الأولى في مسرح المقاهي، وحصد في بداية مسيرته الفنية أكثر من 5000 إعجاب و2000 مشاركة في أول “بودكاست” له عبر شبكات التواصل الاجتماعية، ثم قام بجولة منفردة في كل أنحاء فرنسا، كانت آخر محطة مدينة مرسيليا، مسقط رأسه، ليبدع الممثل الكوميدي من خلال هذا العمل “فامي أون دو أوف” ويملأ قاعة جوليان لـ6 مرات في 2013 و2014 بـ1200 مقعد من خلال شبكات التواصل الاجتماعي فقط.\\n\\nكما قدم برنامجه المعنون بـ”محمد لسويدوا لا يهتم بالعالم” في مسرح الجيمناس بباريس. ثم يلتقي فيليب دلماس، الذي يعرض عليه أن يلعب في مسرح أبولو الشهير حيث سيكمل 8 أشهر متتالية مع 3 عروض في الأسبوع في عام 2015.\\n\\nوكانت مشاركته في مهرجان آلجيري كوميدي ناجحة بحضور جمهور واسع في قصر الثقافة “مفدي زكريا” في صيف عام 2015.\\n\\nوكان لمحمد تحد جديد ليواصل إنتاج الفيديوهات على شكل سلسلة الواب تحت شعار “أون فامي دوأوف” تضم فيها مغامرات سامية وعائلتها.\\n\\nوهذه السلسلة حصدت 10000 من التعليقات عبر وسائل التواصل الاجتماعي بداية من أكتوبر 2017، حتى أصبح العرض “أون فامي دوأوف” على خشبة المسرح الرياضي كل يوم جمعة وسبت.\\n\\nوحددت الجهة المنظمة للحدث سعر التذكرة بـ2000 دينار جزائري، والتذكرة متوفرة في نقاط بيع مختلفة في العاصمة.'"
      ]
     },
     "execution_count": 92,
     "metadata": {},
     "output_type": "execute_result"
    }
   ],
   "source": [
    "article"
   ]
  },
  {
   "cell_type": "code",
   "execution_count": 93,
   "metadata": {},
   "outputs": [
    {
     "data": {
      "text/plain": [
       "'يعود الفكاهي محمد لوسويدوا الجزائر غياب دام بعرض مسرحي جديد يقدمه الـ الداخل بالمسرح الوطني محي الدين بشطارزي وتأتي عودة الفنان الكوميدي محمد لوسويدوا بلاده لإمتاع الجمهور الجزائري بعرض أون فامي دوأوف آخر مشاركة مهرجان ألجيري كوميدي فستيفال طبعته الخامسة ومحمد سويدوا واسمه الحقيقي محمد مجروب التحق بصفوف مدرسة فلورنت بهدف الحصول أساسيات التمثيل شارك مسابقة نادي مرسيليا للكوميديا وفاز المنافسة النهائية وقدم الفكاهي سويدوا عروضه الأولى مسرح المقاهي وحصد بداية مسيرته الفنية أكثر إعجاب مشاركة بودكاست عبر شبكات التواصل الاجتماعية بجولة منفردة أنحاء فرنسا آخر محطة مدينة مرسيليا مسقط رأسه ليبدع الممثل الكوميدي العمل فامي أون دو أوف ويملأ قاعة جوليان لـ مرات بـ مقعد شبكات التواصل الاجتماعي قدم برنامجه المعنون بـمحمد لسويدوا يهتم بالعالم مسرح الجيمناس بباريس يلتقي فيليب دلماس يعرض يلعب مسرح أبولو الشهير سيكمل أشهر متتالية عروض الأسبوع مشاركته مهرجان آلجيري كوميدي ناجحة بحضور جمهور واسع قصر الثقافة مفدي زكريا صيف لمحمد تحد جديد ليواصل إنتاج الفيديوهات شكل سلسلة الواب شعار أون فامي دوأوف تضم مغامرات سامية وعائلتها وهذه السلسلة حصدت التعليقات عبر وسائل التواصل الاجتماعي بداية العرض أون فامي دوأوف خشبة المسرح الرياضي وسبت وحددت الجهة المنظمة للحدث سعر التذكرة بـ جزائري والتذكرة متوفرة نقاط بيع مختلفة العاصمة'"
      ]
     },
     "execution_count": 93,
     "metadata": {},
     "output_type": "execute_result"
    }
   ],
   "source": [
    "articleClean = getCleanArticle(article)\n",
    "articleClean"
   ]
  },
  {
   "cell_type": "code",
   "execution_count": 94,
   "metadata": {},
   "outputs": [],
   "source": [
    "#articleClean = getCleanArticle(articleSteme)\n",
    "#articleClean"
   ]
  },
  {
   "cell_type": "markdown",
   "metadata": {},
   "source": [
    "#### Counting TF-IDF"
   ]
  },
  {
   "cell_type": "code",
   "execution_count": 95,
   "metadata": {},
   "outputs": [],
   "source": [
    "articleCounts = vocabulary.transform([articleClean])\n",
    "articleTFIDF = tfidf.transform(articleCounts)"
   ]
  },
  {
   "cell_type": "markdown",
   "metadata": {},
   "source": [
    "#### Prediction"
   ]
  },
  {
   "cell_type": "code",
   "execution_count": 96,
   "metadata": {},
   "outputs": [
    {
     "data": {
      "text/plain": [
       "'الثقافة'"
      ]
     },
     "execution_count": 96,
     "metadata": {},
     "output_type": "execute_result"
    }
   ],
   "source": [
    "predicted = model.predict(articleTFIDF)\n",
    "keys = list(categories.keys())\n",
    "values = list(categories.values())\n",
    "category = keys[values.index(predicted[0])]\n",
    "arabicCategories[category]"
   ]
  }
 ],
 "metadata": {
  "kernelspec": {
   "display_name": "Python 3",
   "language": "python",
   "name": "python3"
  },
  "language_info": {
   "codemirror_mode": {
    "name": "ipython",
    "version": 3
   },
   "file_extension": ".py",
   "mimetype": "text/x-python",
   "name": "python",
   "nbconvert_exporter": "python",
   "pygments_lexer": "ipython3",
   "version": "3.7.1"
  }
 },
 "nbformat": 4,
 "nbformat_minor": 2
}
